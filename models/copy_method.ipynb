{
 "cells": [
  {
   "cell_type": "code",
   "execution_count": null,
   "id": "4d673bdf",
   "metadata": {},
   "outputs": [],
   "source": [
    "import pandas as pd\n",
    "import geopandas as gpd\n",
    "import pydeck as pdk\n",
    "import matplotlib.pyplot as plt\n",
    "import numpy as np\n",
    "import folium\n",
    "from census import Census\n",
    "from us import states"
   ]
  },
  {
   "cell_type": "markdown",
   "id": "b370872c",
   "metadata": {},
   "source": [
    "# Get a US Census API Key [here](https://api.census.gov/data/key_signup.html) \n",
    "\n",
    "Copy-paste your API Key when prompted when running the cell below."
   ]
  },
  {
   "cell_type": "code",
   "execution_count": null,
   "id": "a911d10e",
   "metadata": {},
   "outputs": [],
   "source": [
    "import os\n",
    "from getpass import getpass\n",
    "\n",
    "# Try to read from env first, otherwise prompt you\n",
    "CENSUS_API_KEY = os.getenv(\"CENSUS_API_KEY\") or getpass(\"Enter your US Census API key: \")\n",
    "\n",
    "os.environ[\"CENSUS_API_KEY\"] = CENSUS_API_KEY\n",
    "\n",
    "print(\"Key loaded, length:\", len(CENSUS_API_KEY), \"characters\")"
   ]
  },
  {
   "cell_type": "markdown",
   "id": "c8a16fa8",
   "metadata": {},
   "source": [
    "# ACS Data"
   ]
  },
  {
   "cell_type": "code",
   "execution_count": null,
   "id": "f69f79dd",
   "metadata": {},
   "outputs": [],
   "source": [
    "inc_vars = [\n",
    "    \"B08119_018E\" # Drove alone + >$75k income\n",
    "]"
   ]
  },
  {
   "cell_type": "code",
   "execution_count": null,
   "id": "19e9654c",
   "metadata": {},
   "outputs": [],
   "source": [
    "c = Census(CENSUS_API_KEY, year=2022)\n",
    "\n",
    "# List of Bay-Area county FIPS:\n",
    "bay_fips = [\"001\",\"013\",\"041\",\"055\",\"075\",\"081\",\"085\",\"095\",\"097\"]"
   ]
  },
  {
   "cell_type": "code",
   "execution_count": null,
   "id": "5d12c16d",
   "metadata": {},
   "outputs": [],
   "source": [
    "def get_inc_by_tract(inc_list, inc_var):\n",
    "    for county in bay_fips:\n",
    "        inc_list += c.acs5.state_county_tract(\n",
    "            (inc_var,\"NAME\"),\n",
    "            states.CA.fips,\n",
    "            county,\n",
    "            Census.ALL\n",
    "        )\n",
    "\n",
    "    df = pd.DataFrame(inc_list)\n",
    "    df[\"GEOID\"] = df.state + df.county + df.tract\n",
    "    df = df[[\"GEOID\",inc_var]]\n",
    "\n",
    "    return df"
   ]
  },
  {
   "cell_type": "code",
   "execution_count": null,
   "id": "292e7c67",
   "metadata": {},
   "outputs": [],
   "source": [
    "inc1 = []\n",
    "df_inc1 = get_inc_by_tract(inc1, inc_vars[0])"
   ]
  },
  {
   "cell_type": "code",
   "execution_count": null,
   "id": "cb7b9acf",
   "metadata": {},
   "outputs": [],
   "source": [
    "# Load Bay-Area tracts shapefile\n",
    "path = \"/Users/dsong/Library/CloudStorage/OneDrive-UniversityofIllinois-Urbana/Research/UROP 2025 - UAM/Demand Analysis/TIGER Line 2022 Tract/tl_2022_06_tract.shp\"\n",
    "tracts = gpd.read_file(path)[[\"GEOID\",\"geometry\"]]\n",
    "bay_tracts = tracts[tracts.GEOID.str[:5].isin({\"06001\",\"06013\",\"06041\",\n",
    "                                             \"06055\",\"06075\",\"06081\",\n",
    "                                             \"06085\",\"06095\",\"06097\"})]\n",
    "\n",
    "# Merge population → GeoDataFrame\n",
    "gdf_acs = bay_tracts.merge(df_inc1, on=\"GEOID\", how=\"left\").fillna(0)\n",
    "gdf_acs = gdf_acs.drop(columns=\"geometry\")"
   ]
  },
  {
   "cell_type": "markdown",
   "id": "5d2e655e",
   "metadata": {},
   "source": [
    "# LODES Data"
   ]
  },
  {
   "cell_type": "code",
   "execution_count": null,
   "id": "96008aaa",
   "metadata": {},
   "outputs": [],
   "source": [
    "data_var = \"S000\""
   ]
  },
  {
   "cell_type": "code",
   "execution_count": null,
   "id": "40d505e1",
   "metadata": {},
   "outputs": [],
   "source": [
    "# Read CSV file containing LODES data, update path to your local file\n",
    "path = \"/Users/dsong/Library/CloudStorage/OneDrive-UniversityofIllinois-Urbana/Research/UROP 2025 - UAM/Demand Analysis/LODES/ca_od_main_JT00_2022.csv\"\n",
    "od = pd.read_csv(path, dtype={\"w_geocode\": str, \"h_geocode\": str})"
   ]
  },
  {
   "cell_type": "code",
   "execution_count": null,
   "id": "e878e7ca",
   "metadata": {},
   "outputs": [],
   "source": [
    "# Extract 11-digit tract GEOIDs (tract codes, not full GEOIDs for blocks)\n",
    "od[\"h_tract\"] = od[\"h_geocode\"].str[:11]\n",
    "od[\"w_tract\"] = od[\"w_geocode\"].str[:11]\n",
    "\n",
    "od_copy = od.copy()"
   ]
  },
  {
   "cell_type": "markdown",
   "id": "fc767177",
   "metadata": {},
   "source": [
    "# Choose a data variable to plot"
   ]
  },
  {
   "cell_type": "code",
   "execution_count": null,
   "id": "a8d28a84",
   "metadata": {},
   "outputs": [],
   "source": [
    "data_var = \"S000\""
   ]
  },
  {
   "cell_type": "code",
   "execution_count": null,
   "id": "596633ab",
   "metadata": {},
   "outputs": [],
   "source": [
    "# Group by home→work tract pairs and sum jobs in data_var\n",
    "od_tract = (\n",
    "    od\n",
    "    .groupby([\"h_tract\", \"w_tract\"], as_index=False)[data_var]\n",
    "    .sum()\n",
    ")\n",
    "\n",
    "# Also compute total out-flow per origin tract for a choropleth\n",
    "sum_H = (\n",
    "    od_tract\n",
    "    .groupby(\"h_tract\", as_index=False)[data_var]\n",
    "    .sum()\n",
    "    .rename(columns={\"h_tract\": \"GEOID\", data_var: \"sum_H\"})\n",
    ")"
   ]
  },
  {
   "cell_type": "code",
   "execution_count": null,
   "id": "917ab268",
   "metadata": {},
   "outputs": [],
   "source": [
    "# Remove intra-tract commutes\n",
    "od_overlap = od_copy[od_copy[\"h_tract\"] != od_copy[\"w_tract\"]]\n",
    "# Group by home→work tract pairs\n",
    "od_tract_overlap = (od_overlap.groupby([\"h_tract\", \"w_tract\"])[[data_var]]\n",
    "            .sum()\n",
    "            .reset_index())\n",
    "\n",
    "H2W = (\n",
    "    od_tract_overlap\n",
    "    .groupby(\"h_tract\", as_index=False)[data_var]\n",
    "    .sum()\n",
    "    .rename(columns={\"h_tract\": \"GEOID\", data_var: \"H2W\"})\n",
    ")"
   ]
  },
  {
   "cell_type": "code",
   "execution_count": null,
   "id": "14494329",
   "metadata": {},
   "outputs": [],
   "source": [
    "# Read the TIGER/Line shapefile for California tracts, static choropleth\n",
    "path = \"/Users/dsong/Library/CloudStorage/OneDrive-UniversityofIllinois-Urbana/Research/UROP 2025 - UAM/Demand Analysis/TIGER Line 2022 Tract/tl_2022_06_tract.shp\"\n",
    "tracts = gpd.read_file(path)[[\"GEOID\", \"geometry\"]]\n",
    "\n",
    "# Merge the origin totals onto the GeoDataFrame\n",
    "gdf_H2W = tracts.merge(H2W, on=\"GEOID\", how=\"left\").fillna(0)\n",
    "gdf_sum_H = tracts.merge(sum_H, on=\"GEOID\", how=\"left\").fillna(0)\n",
    "\n",
    "# Filter to Bay-Area tracts by county FIPS\n",
    "bay_counties = {\n",
    "    \"06001\",  # Alameda\n",
    "    \"06013\",  # Contra Costa\n",
    "    \"06041\",  # Marin\n",
    "    \"06055\",  # Napa\n",
    "    \"06075\",  # San Francisco\n",
    "    \"06081\",  # San Mateo\n",
    "    \"06085\",  # Santa Clara\n",
    "    \"06095\",  # Solano\n",
    "    \"06097\",  # Sonoma\n",
    "}\n",
    "# GEOID[:5] is state+county FIPS\n",
    "gdf_H2W = gdf_H2W[gdf_sum_H[\"GEOID\"].str[:5].isin(bay_counties)].copy()\n",
    "gdf_sum_H = gdf_sum_H[gdf_sum_H[\"GEOID\"].str[:5].isin(bay_counties)].copy()\n",
    "\n",
    "gdf_H2W = gdf_H2W.drop(columns=\"geometry\")\n",
    "gdf = gdf_sum_H.merge(\n",
    "    gdf_H2W, on=\"GEOID\", how=\"left\"\n",
    ")\n",
    "gdf = gdf.merge(gdf_acs, on=\"GEOID\", how=\"left\")\n",
    "gdf[\"final\"] = gdf[\"H2W\"] / gdf[\"sum_H\"] * gdf[\"B08119_018E\"]\n",
    "gdf"
   ]
  },
  {
   "cell_type": "markdown",
   "id": "d49a2786",
   "metadata": {},
   "source": [
    "# Static Choropleth\n",
    "\n",
    "Yellow indicates more people leaving their tract to go somewhere else (more outbound travel beyond their tract)"
   ]
  },
  {
   "cell_type": "code",
   "execution_count": null,
   "id": "65d69f43",
   "metadata": {},
   "outputs": [],
   "source": [
    "fig, ax = plt.subplots(figsize=(8, 8))\n",
    "gdf.plot(\n",
    "    column=\"final\",\n",
    "    cmap=\"magma_r\",\n",
    "    legend=True,\n",
    "    legend_kwds={\n",
    "        \"label\": \"Commutes Originating in Tract\",\n",
    "        \"fmt\": \"{:.0f}\",\n",
    "    },\n",
    "    linewidth=0.1,\n",
    "    edgecolor=\"gray\",\n",
    "    ax=ax\n",
    ")\n",
    "ax.set_title(\"2022 Estimated Demand — Bay Area\")\n",
    "ax.axis(\"off\")\n",
    "plt.show()"
   ]
  },
  {
   "cell_type": "code",
   "execution_count": null,
   "id": "a7fec6bd",
   "metadata": {},
   "outputs": [],
   "source": [
    "# Define your view over the Bay Area\n",
    "geojson = gdf.__geo_interface__\n",
    "coords = np.vstack(gdf.geometry.centroid.apply(lambda p: (p.y, p.x)))\n",
    "view_state = pdk.ViewState(\n",
    "    latitude=coords[:,0].mean(),\n",
    "    longitude=coords[:,1].mean(),\n",
    "    zoom=9,\n",
    "    pitch=0\n",
    ")\n",
    "\n",
    "# Center map on Bay Area\n",
    "center = [view_state.latitude, view_state.longitude]\n",
    "m = folium.Map(location=center, zoom_start=9, tiles=None)\n",
    "\n",
    "# Add Google Streets as your basemap\n",
    "folium.TileLayer(\n",
    "    tiles=\"https://mt1.google.com/vt/lyrs=m&x={x}&y={y}&z={z}\",\n",
    "    attr=\"Google\",\n",
    "    name=\"Google Streets\",\n",
    "    control=False\n",
    ").add_to(m)\n",
    "\n",
    "# Add choropleth layer with legend\n",
    "folium.Choropleth(\n",
    "    geo_data=geojson,\n",
    "    data=gdf,\n",
    "    columns=[\"GEOID\", \"final\"],\n",
    "    key_on=\"feature.properties.GEOID\",\n",
    "    fill_color=\"YlOrBr\",\n",
    "    bins=8,\n",
    "    fill_opacity=0.7,\n",
    "    line_opacity=0.2,\n",
    "    legend_name=\"Esimated Demand\",\n",
    ").add_to(m)\n",
    "\n",
    "folium.LayerControl().add_to(m)\n",
    "m"
   ]
  }
 ],
 "metadata": {
  "kernelspec": {
   "display_name": ".venv",
   "language": "python",
   "name": "python3"
  },
  "language_info": {
   "codemirror_mode": {
    "name": "ipython",
    "version": 3
   },
   "file_extension": ".py",
   "mimetype": "text/x-python",
   "name": "python",
   "nbconvert_exporter": "python",
   "pygments_lexer": "ipython3",
   "version": "3.12.9"
  }
 },
 "nbformat": 4,
 "nbformat_minor": 5
}
