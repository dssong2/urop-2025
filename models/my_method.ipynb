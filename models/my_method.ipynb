{
 "cells": [
  {
   "cell_type": "code",
   "execution_count": null,
   "id": "ab4d7587",
   "metadata": {},
   "outputs": [],
   "source": [
    "import pandas as pd\n",
    "import geopandas as gpd\n",
    "import pydeck as pdk\n",
    "import matplotlib.pyplot as plt\n",
    "import numpy as np\n",
    "import folium\n",
    "from census import Census\n",
    "from us import states"
   ]
  },
  {
   "cell_type": "markdown",
   "id": "70bf713a",
   "metadata": {},
   "source": [
    "# Get a US Census API Key [here](https://api.census.gov/data/key_signup.html) \n",
    "\n",
    "Copy-paste your API Key when prompted when running the cell below."
   ]
  },
  {
   "cell_type": "code",
   "execution_count": null,
   "id": "1d3019fa",
   "metadata": {},
   "outputs": [
    {
     "name": "stdout",
     "output_type": "stream",
     "text": [
      "Key loaded, length: 40 characters\n"
     ]
    }
   ],
   "source": [
    "import os\n",
    "from getpass import getpass\n",
    "\n",
    "# Try to read from env first, otherwise prompt you\n",
    "CENSUS_API_KEY = os.getenv(\"CENSUS_API_KEY\") or getpass(\"Enter your US Census API key: \")\n",
    "\n",
    "os.environ[\"CENSUS_API_KEY\"] = CENSUS_API_KEY\n",
    "\n",
    "print(\"Key loaded, length:\", len(CENSUS_API_KEY), \"characters\")"
   ]
  },
  {
   "cell_type": "code",
   "execution_count": null,
   "id": "23dde0b4",
   "metadata": {},
   "outputs": [],
   "source": []
  }
 ],
 "metadata": {
  "language_info": {
   "name": "python"
  }
 },
 "nbformat": 4,
 "nbformat_minor": 5
}
