{
 "cells": [
  {
   "cell_type": "code",
   "execution_count": 10,
   "id": "ab4d7587",
   "metadata": {},
   "outputs": [],
   "source": [
    "import pandas as pd\n",
    "import geopandas as gpd\n",
    "import pydeck as pdk\n",
    "import matplotlib.pyplot as plt\n",
    "import numpy as np\n",
    "import folium\n",
    "from census import Census\n",
    "from us import states"
   ]
  },
  {
   "cell_type": "markdown",
   "id": "70bf713a",
   "metadata": {},
   "source": [
    "# Get a US Census API Key [here](https://api.census.gov/data/key_signup.html) \n",
    "\n",
    "Copy-paste your API Key when prompted when running the cell below."
   ]
  },
  {
   "cell_type": "code",
   "execution_count": 11,
   "id": "1d3019fa",
   "metadata": {},
   "outputs": [
    {
     "name": "stdout",
     "output_type": "stream",
     "text": [
      "Key loaded, length: 40 characters\n"
     ]
    }
   ],
   "source": [
    "import os\n",
    "from getpass import getpass\n",
    "\n",
    "# Try to read from env first, otherwise prompt you\n",
    "CENSUS_API_KEY = os.getenv(\"CENSUS_API_KEY\") or getpass(\"Enter your US Census API key: \")\n",
    "\n",
    "os.environ[\"CENSUS_API_KEY\"] = CENSUS_API_KEY\n",
    "\n",
    "print(\"Key loaded, length:\", len(CENSUS_API_KEY), \"characters\")"
   ]
  },
  {
   "cell_type": "markdown",
   "id": "eebe8442",
   "metadata": {},
   "source": [
    "# LODES Data"
   ]
  },
  {
   "cell_type": "code",
   "execution_count": 12,
   "id": "13eea8a1",
   "metadata": {},
   "outputs": [],
   "source": [
    "data_var = \"S000\""
   ]
  },
  {
   "cell_type": "code",
   "execution_count": 13,
   "id": "41ce51a9",
   "metadata": {},
   "outputs": [],
   "source": [
    "# Read CSV file containing LODES data, update path to your local file\n",
    "path = \"/Users/dsong/Library/CloudStorage/OneDrive-UniversityofIllinois-Urbana/Research/UROP 2025 - UAM/Demand Analysis/LODES/ca_od_main_JT00_2022.csv\"\n",
    "od = pd.read_csv(path, dtype={\"w_geocode\": str, \"h_geocode\": str})"
   ]
  },
  {
   "cell_type": "code",
   "execution_count": 14,
   "id": "6e0c41f0",
   "metadata": {},
   "outputs": [],
   "source": [
    "# Extract 11-digit tract GEOIDs (tract codes, not full GEOIDs for blocks)\n",
    "od[\"h_tract\"] = od[\"h_geocode\"].str[:11]\n",
    "od[\"w_tract\"] = od[\"w_geocode\"].str[:11]\n",
    "\n",
    "od_copy = od.copy()"
   ]
  },
  {
   "cell_type": "code",
   "execution_count": 15,
   "id": "272a4f29",
   "metadata": {},
   "outputs": [],
   "source": [
    "bay_counties = {\n",
    "    \"06001\",  # Alameda\n",
    "    \"06013\",  # Contra Costa\n",
    "    \"06041\",  # Marin\n",
    "    \"06055\",  # Napa\n",
    "    \"06075\",  # San Francisco\n",
    "    \"06081\",  # San Mateo\n",
    "    \"06085\",  # Santa Clara\n",
    "    \"06095\",  # Solano\n",
    "    \"06097\",  # Sonoma\n",
    "}\n",
    "\n",
    "# Group by home→work tract pairs and sum jobs in data_var\n",
    "LODES_H2W = (\n",
    "    od\n",
    "    .groupby([\"h_tract\", \"w_tract\"], as_index=False)[data_var]\n",
    "    .sum()\n",
    "    .rename(columns={data_var: \"H2W Count\"})\n",
    ")\n",
    "LODES_H2W = LODES_H2W[\n",
    "    LODES_H2W[\"h_tract\"].str[:5].isin(bay_counties) &\n",
    "    LODES_H2W[\"w_tract\"].str[:5].isin(bay_counties)\n",
    "].copy()\n",
    "\n",
    "# Also compute total out-flow per origin tract for a choropleth\n",
    "LODES_H_sum = (\n",
    "    LODES_H2W\n",
    "    .groupby(\"h_tract\", as_index=False)[\"H2W Count\"]\n",
    "    .sum()\n",
    "    .rename(columns={\"h_tract\": \"GEOID\", \"H2W Count\": \"LODES_H_sum\"})\n",
    ")\n",
    "LODES_H_sum = LODES_H_sum[\n",
    "    LODES_H_sum[\"GEOID\"].str[:5].isin(bay_counties)\n",
    "].copy()"
   ]
  },
  {
   "cell_type": "code",
   "execution_count": 16,
   "id": "b9b93d20",
   "metadata": {},
   "outputs": [
    {
     "data": {
      "text/html": [
       "<div>\n",
       "<style scoped>\n",
       "    .dataframe tbody tr th:only-of-type {\n",
       "        vertical-align: middle;\n",
       "    }\n",
       "\n",
       "    .dataframe tbody tr th {\n",
       "        vertical-align: top;\n",
       "    }\n",
       "\n",
       "    .dataframe thead th {\n",
       "        text-align: right;\n",
       "    }\n",
       "</style>\n",
       "<table border=\"1\" class=\"dataframe\">\n",
       "  <thead>\n",
       "    <tr style=\"text-align: right;\">\n",
       "      <th></th>\n",
       "      <th>GEOID</th>\n",
       "      <th>LODES_H_sum</th>\n",
       "    </tr>\n",
       "  </thead>\n",
       "  <tbody>\n",
       "    <tr>\n",
       "      <th>0</th>\n",
       "      <td>06001400100</td>\n",
       "      <td>1270</td>\n",
       "    </tr>\n",
       "    <tr>\n",
       "      <th>1</th>\n",
       "      <td>06001400200</td>\n",
       "      <td>894</td>\n",
       "    </tr>\n",
       "    <tr>\n",
       "      <th>2</th>\n",
       "      <td>06001400300</td>\n",
       "      <td>2380</td>\n",
       "    </tr>\n",
       "    <tr>\n",
       "      <th>3</th>\n",
       "      <td>06001400400</td>\n",
       "      <td>1796</td>\n",
       "    </tr>\n",
       "    <tr>\n",
       "      <th>4</th>\n",
       "      <td>06001400500</td>\n",
       "      <td>1643</td>\n",
       "    </tr>\n",
       "    <tr>\n",
       "      <th>...</th>\n",
       "      <td>...</td>\n",
       "      <td>...</td>\n",
       "    </tr>\n",
       "    <tr>\n",
       "      <th>1760</th>\n",
       "      <td>06097154304</td>\n",
       "      <td>664</td>\n",
       "    </tr>\n",
       "    <tr>\n",
       "      <th>1761</th>\n",
       "      <td>06097154305</td>\n",
       "      <td>427</td>\n",
       "    </tr>\n",
       "    <tr>\n",
       "      <th>1762</th>\n",
       "      <td>06097154306</td>\n",
       "      <td>586</td>\n",
       "    </tr>\n",
       "    <tr>\n",
       "      <th>1763</th>\n",
       "      <td>06097154307</td>\n",
       "      <td>244</td>\n",
       "    </tr>\n",
       "    <tr>\n",
       "      <th>1764</th>\n",
       "      <td>06097154308</td>\n",
       "      <td>133</td>\n",
       "    </tr>\n",
       "  </tbody>\n",
       "</table>\n",
       "<p>1765 rows × 2 columns</p>\n",
       "</div>"
      ],
      "text/plain": [
       "            GEOID  LODES_H_sum\n",
       "0     06001400100         1270\n",
       "1     06001400200          894\n",
       "2     06001400300         2380\n",
       "3     06001400400         1796\n",
       "4     06001400500         1643\n",
       "...           ...          ...\n",
       "1760  06097154304          664\n",
       "1761  06097154305          427\n",
       "1762  06097154306          586\n",
       "1763  06097154307          244\n",
       "1764  06097154308          133\n",
       "\n",
       "[1765 rows x 2 columns]"
      ]
     },
     "execution_count": 16,
     "metadata": {},
     "output_type": "execute_result"
    }
   ],
   "source": [
    "LODES_H_sum"
   ]
  },
  {
   "cell_type": "markdown",
   "id": "e678e72b",
   "metadata": {},
   "source": [
    "# ACS Data"
   ]
  },
  {
   "cell_type": "code",
   "execution_count": 17,
   "id": "bc59f65e",
   "metadata": {},
   "outputs": [],
   "source": [
    "data_vars = [\n",
    "    \"B08119_018E\", # Drove alone + >$75k income\n",
    "    \"B08134_001E\", # Total workers 16+\n",
    "]"
   ]
  },
  {
   "cell_type": "code",
   "execution_count": 18,
   "id": "24745c37",
   "metadata": {},
   "outputs": [],
   "source": [
    "c = Census(CENSUS_API_KEY, year=2022)\n",
    "\n",
    "# List of Bay-Area county FIPS:\n",
    "bay_fips = [\"001\",\"013\",\"041\",\"055\",\"075\",\"081\",\"085\",\"095\",\"097\"]"
   ]
  },
  {
   "cell_type": "code",
   "execution_count": 19,
   "id": "503eecf7",
   "metadata": {},
   "outputs": [],
   "source": [
    "def get_data_by_tract(data_list, data_var):\n",
    "    for county in bay_fips:\n",
    "        data_list += c.acs5.state_county_tract(\n",
    "            (data_var,\"NAME\"),\n",
    "            states.CA.fips,\n",
    "            county,\n",
    "            Census.ALL\n",
    "        )\n",
    "\n",
    "    df = pd.DataFrame(data_list)\n",
    "    df[\"GEOID\"] = df.state + df.county + df.tract\n",
    "    df = df[[\"GEOID\",data_var]]\n",
    "\n",
    "    return df"
   ]
  },
  {
   "cell_type": "code",
   "execution_count": 20,
   "id": "fc8bee9f",
   "metadata": {},
   "outputs": [],
   "source": [
    "inc1 = []\n",
    "df_inc1 = get_data_by_tract(inc1, data_vars[0]).rename(columns={data_vars[0]: \"$75k+ income\"})"
   ]
  },
  {
   "cell_type": "code",
   "execution_count": 21,
   "id": "a40712c2",
   "metadata": {},
   "outputs": [
    {
     "data": {
      "text/html": [
       "<div>\n",
       "<style scoped>\n",
       "    .dataframe tbody tr th:only-of-type {\n",
       "        vertical-align: middle;\n",
       "    }\n",
       "\n",
       "    .dataframe tbody tr th {\n",
       "        vertical-align: top;\n",
       "    }\n",
       "\n",
       "    .dataframe thead th {\n",
       "        text-align: right;\n",
       "    }\n",
       "</style>\n",
       "<table border=\"1\" class=\"dataframe\">\n",
       "  <thead>\n",
       "    <tr style=\"text-align: right;\">\n",
       "      <th></th>\n",
       "      <th>GEOID</th>\n",
       "      <th>$75k+ income</th>\n",
       "    </tr>\n",
       "  </thead>\n",
       "  <tbody>\n",
       "    <tr>\n",
       "      <th>0</th>\n",
       "      <td>06001400100</td>\n",
       "      <td>466.0</td>\n",
       "    </tr>\n",
       "    <tr>\n",
       "      <th>1</th>\n",
       "      <td>06001400200</td>\n",
       "      <td>129.0</td>\n",
       "    </tr>\n",
       "    <tr>\n",
       "      <th>2</th>\n",
       "      <td>06001400300</td>\n",
       "      <td>517.0</td>\n",
       "    </tr>\n",
       "    <tr>\n",
       "      <th>3</th>\n",
       "      <td>06001400400</td>\n",
       "      <td>426.0</td>\n",
       "    </tr>\n",
       "    <tr>\n",
       "      <th>4</th>\n",
       "      <td>06001400500</td>\n",
       "      <td>335.0</td>\n",
       "    </tr>\n",
       "    <tr>\n",
       "      <th>...</th>\n",
       "      <td>...</td>\n",
       "      <td>...</td>\n",
       "    </tr>\n",
       "    <tr>\n",
       "      <th>1767</th>\n",
       "      <td>06097154305</td>\n",
       "      <td>239.0</td>\n",
       "    </tr>\n",
       "    <tr>\n",
       "      <th>1768</th>\n",
       "      <td>06097154306</td>\n",
       "      <td>96.0</td>\n",
       "    </tr>\n",
       "    <tr>\n",
       "      <th>1769</th>\n",
       "      <td>06097154307</td>\n",
       "      <td>14.0</td>\n",
       "    </tr>\n",
       "    <tr>\n",
       "      <th>1770</th>\n",
       "      <td>06097154308</td>\n",
       "      <td>42.0</td>\n",
       "    </tr>\n",
       "    <tr>\n",
       "      <th>1771</th>\n",
       "      <td>06097990100</td>\n",
       "      <td>0.0</td>\n",
       "    </tr>\n",
       "  </tbody>\n",
       "</table>\n",
       "<p>1772 rows × 2 columns</p>\n",
       "</div>"
      ],
      "text/plain": [
       "            GEOID  $75k+ income\n",
       "0     06001400100         466.0\n",
       "1     06001400200         129.0\n",
       "2     06001400300         517.0\n",
       "3     06001400400         426.0\n",
       "4     06001400500         335.0\n",
       "...           ...           ...\n",
       "1767  06097154305         239.0\n",
       "1768  06097154306          96.0\n",
       "1769  06097154307          14.0\n",
       "1770  06097154308          42.0\n",
       "1771  06097990100           0.0\n",
       "\n",
       "[1772 rows x 2 columns]"
      ]
     },
     "execution_count": 21,
     "metadata": {},
     "output_type": "execute_result"
    }
   ],
   "source": [
    "# Load Bay-Area tracts shapefile\n",
    "path = \"/Users/dsong/Library/CloudStorage/OneDrive-UniversityofIllinois-Urbana/Research/UROP 2025 - UAM/Demand Analysis/TIGER Line 2022 Tract/tl_2022_06_tract.shp\"\n",
    "tracts = gpd.read_file(path)[[\"GEOID\",\"geometry\"]]\n",
    "bay_tracts = tracts[tracts.GEOID.str[:5].isin({\"06001\",\"06013\",\"06041\",\n",
    "                                             \"06055\",\"06075\",\"06081\",\n",
    "                                             \"06085\",\"06095\",\"06097\"})]\n",
    "\n",
    "# Merge population → GeoDataFrame\n",
    "gdf_inc = bay_tracts.merge(df_inc1, on=\"GEOID\", how=\"left\").fillna(0)\n",
    "gdf_inc = gdf_inc.drop(columns=\"geometry\")\n",
    "\n",
    "df_inc1"
   ]
  }
 ],
 "metadata": {
  "kernelspec": {
   "display_name": ".venv",
   "language": "python",
   "name": "python3"
  },
  "language_info": {
   "codemirror_mode": {
    "name": "ipython",
    "version": 3
   },
   "file_extension": ".py",
   "mimetype": "text/x-python",
   "name": "python",
   "nbconvert_exporter": "python",
   "pygments_lexer": "ipython3",
   "version": "3.12.9"
  }
 },
 "nbformat": 4,
 "nbformat_minor": 5
}
