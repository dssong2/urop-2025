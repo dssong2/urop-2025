{
 "cells": [
  {
   "cell_type": "markdown",
   "id": "bdbd06d5",
   "metadata": {},
   "source": [
    "# IN PROGRESS"
   ]
  },
  {
   "cell_type": "code",
   "execution_count": null,
   "id": "8891f33c",
   "metadata": {},
   "outputs": [],
   "source": [
    "import pandas as pd\n",
    "import geopandas as gpd\n",
    "import pydeck as pdk\n",
    "import matplotlib.pyplot as plt\n",
    "import numpy as np\n",
    "import folium\n",
    "from census import Census\n",
    "from us import states"
   ]
  },
  {
   "cell_type": "markdown",
   "id": "05252d26",
   "metadata": {},
   "source": [
    "# Get a US Census API Key [here](https://api.census.gov/data/key_signup.html) \n",
    "\n",
    "Copy-paste your API Key when prompted when running the cell below."
   ]
  },
  {
   "cell_type": "code",
   "execution_count": null,
   "id": "89ae743f",
   "metadata": {},
   "outputs": [],
   "source": [
    "import os\n",
    "from getpass import getpass\n",
    "\n",
    "# Try to read from env first, otherwise prompt you\n",
    "CENSUS_API_KEY = os.getenv(\"GOOGLE_MAPS_API_KEY\") or getpass(\"Enter your Google Maps API key: \")\n",
    "\n",
    "os.environ[\"CENSUS_API_KEY\"] = CENSUS_API_KEY\n",
    "\n",
    "print(\"Key loaded, length:\", len(CENSUS_API_KEY), \"characters\")"
   ]
  },
  {
   "cell_type": "markdown",
   "id": "d2b92363",
   "metadata": {},
   "source": [
    "**B08201_002E - B08210_006E**: Total households with 2+ vehicles"
   ]
  },
  {
   "cell_type": "code",
   "execution_count": null,
   "id": "d6f0597f",
   "metadata": {},
   "outputs": [],
   "source": [
    "veh_vars = [\n",
    "    \"B08201_004E\",  # 2 vehicles\n",
    "    \"B08201_005E\",  # 3 vehicles\n",
    "    \"B08201_006E\",  # 4+ vehicles\n",
    "]"
   ]
  },
  {
   "cell_type": "code",
   "execution_count": null,
   "id": "ee899831",
   "metadata": {},
   "outputs": [],
   "source": [
    "c = Census(CENSUS_API_KEY, year=2022)\n",
    "\n",
    "# List of Bay-Area county FIPS:\n",
    "bay_fips = [\"001\",\"013\",\"041\",\"055\",\"075\",\"081\",\"085\",\"095\",\"097\"]"
   ]
  }
 ],
 "metadata": {
  "language_info": {
   "name": "python"
  }
 },
 "nbformat": 4,
 "nbformat_minor": 5
}
