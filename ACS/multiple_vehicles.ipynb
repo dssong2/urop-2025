{
 "cells": [
  {
   "cell_type": "markdown",
   "id": "bdbd06d5",
   "metadata": {},
   "source": [
    "# IN PROGRESS"
   ]
  },
  {
   "cell_type": "code",
   "execution_count": null,
   "id": "8891f33c",
   "metadata": {},
   "outputs": [],
   "source": [
    "import pandas as pd\n",
    "import geopandas as gpd\n",
    "import pydeck as pdk\n",
    "import matplotlib.pyplot as plt\n",
    "import numpy as np\n",
    "import folium\n",
    "from census import Census\n",
    "from us import states"
   ]
  },
  {
   "cell_type": "markdown",
   "id": "05252d26",
   "metadata": {},
   "source": [
    "# Get a US Census API Key [here](https://api.census.gov/data/key_signup.html) \n",
    "\n",
    "Copy-paste your API Key when prompted when running the cell below."
   ]
  },
  {
   "cell_type": "code",
   "execution_count": null,
   "id": "89ae743f",
   "metadata": {},
   "outputs": [],
   "source": [
    "import os\n",
    "from getpass import getpass\n",
    "\n",
    "# Try to read from env first, otherwise prompt you\n",
    "CENSUS_API_KEY = os.getenv(\"CENSUS_API_KEY\") or getpass(\"Enter your Census API key: \")\n",
    "\n",
    "os.environ[\"CENSUS_API_KEY\"] = CENSUS_API_KEY\n",
    "\n",
    "print(\"Key loaded, length:\", len(CENSUS_API_KEY), \"characters\")"
   ]
  },
  {
   "cell_type": "markdown",
   "id": "d2b92363",
   "metadata": {},
   "source": [
    "**B08201_004E - B08210_006E**: Total households with 2+ vehicles"
   ]
  },
  {
   "cell_type": "code",
   "execution_count": null,
   "id": "d6f0597f",
   "metadata": {},
   "outputs": [],
   "source": [
    "veh_vars = [\n",
    "    \"B08201_004E\",  # 2 vehicles\n",
    "    \"B08201_005E\",  # 3 vehicles\n",
    "    \"B08201_006E\",  # 4+ vehicles\n",
    "    \"multiple_vehicles\", # Custom title for multiple vehicles\n",
    "    \"B08201_003E\",  # 1 vehicle (probably not needed)\n",
    "]"
   ]
  },
  {
   "cell_type": "code",
   "execution_count": null,
   "id": "ee899831",
   "metadata": {},
   "outputs": [],
   "source": [
    "c = Census(CENSUS_API_KEY, year=2022)\n",
    "\n",
    "# List of Bay-Area county FIPS:\n",
    "bay_fips = [\"001\",\"013\",\"041\",\"055\",\"075\",\"081\",\"085\",\"095\",\"097\"]"
   ]
  },
  {
   "cell_type": "code",
   "execution_count": null,
   "id": "e63266f4",
   "metadata": {},
   "outputs": [],
   "source": [
    "def get_vehicles_by_tract(veh_list, veh_var):\n",
    "    for county in bay_fips:\n",
    "        veh_list += c.acs5.state_county_tract(\n",
    "            (veh_var,\"NAME\"),\n",
    "            states.CA.fips,\n",
    "            county,\n",
    "            Census.ALL\n",
    "        )\n",
    "\n",
    "    df = pd.DataFrame(veh_list)\n",
    "    df[\"GEOID\"] = df.state + df.county + df.tract\n",
    "    df = df[[\"GEOID\",veh_var]]\n",
    "\n",
    "    return df"
   ]
  },
  {
   "cell_type": "code",
   "execution_count": null,
   "id": "e1049725",
   "metadata": {},
   "outputs": [],
   "source": [
    "veh1 = []\n",
    "df_veh1 = get_vehicles_by_tract(veh1, veh_vars[-1])\n",
    "\n",
    "veh2 = []\n",
    "df_veh2 = get_vehicles_by_tract(veh2, veh_vars[0])\n",
    "\n",
    "veh3 = []\n",
    "df_veh3 = get_vehicles_by_tract(veh3, veh_vars[1])\n",
    "\n",
    "veh4 = []\n",
    "df_veh4 = get_vehicles_by_tract(veh4, veh_vars[2])"
   ]
  },
  {
   "cell_type": "code",
   "execution_count": null,
   "id": "1a79d7bb",
   "metadata": {},
   "outputs": [],
   "source": [
    "# df_veh2.head()"
   ]
  },
  {
   "cell_type": "code",
   "execution_count": null,
   "id": "ca1610f7",
   "metadata": {},
   "outputs": [],
   "source": [
    "# df_veh3.head()"
   ]
  },
  {
   "cell_type": "code",
   "execution_count": null,
   "id": "1719dce6",
   "metadata": {},
   "outputs": [],
   "source": [
    "# df_veh4.head()"
   ]
  },
  {
   "cell_type": "code",
   "execution_count": null,
   "id": "105961ac",
   "metadata": {},
   "outputs": [],
   "source": [
    "veh_dfs = [df_veh2, df_veh3, df_veh4] # not including 1-vehicle data\n",
    "\n",
    "# concatenate and then group/sum\n",
    "combined = pd.concat(veh_dfs, ignore_index=True)\n",
    "\n",
    "veh_df = (\n",
    "    combined\n",
    "      .groupby(\"GEOID\", as_index=False)\n",
    "      .sum()\n",
    ")\n",
    "\n",
    "veh_df.head()\n",
    "\n",
    "# Compute the sum across all columns except GEOID\n",
    "veh_df[\"multiple_vehicles\"] = veh_df.iloc[:, 1:].sum(axis=1)\n",
    "\n",
    "# Create a new DataFrame with just GEOID + that sum\n",
    "total_veh = veh_df[[\"GEOID\", \"multiple_vehicles\"]].copy()\n",
    "\n",
    "# 3. Reset the index\n",
    "total_veh = total_veh.reset_index(drop=True)\n",
    "\n",
    "print(veh_df.head())\n",
    "total_veh.head()"
   ]
  },
  {
   "cell_type": "code",
   "execution_count": null,
   "id": "530e4e92",
   "metadata": {},
   "outputs": [],
   "source": [
    "def plot_vehicles_by_tract(category):\n",
    "    veh_df, veh_var, num_cars = category\n",
    "    # Load Bay-Area tracts shapefile\n",
    "    path = \"/Users/dsong/Library/CloudStorage/OneDrive-UniversityofIllinois-Urbana/Research/UROP 2025 - UAM/Demand Analysis/TIGER Line 2022 Tract/tl_2022_06_tract.shp\"\n",
    "    tracts = gpd.read_file(path)[[\"GEOID\",\"geometry\"]]\n",
    "    bay_tracts = tracts[tracts.GEOID.str[:5].isin({\"06001\",\"06013\",\"06041\",\n",
    "                                                \"06055\",\"06075\",\"06081\",\n",
    "                                                \"06085\",\"06095\",\"06097\"})]\n",
    "\n",
    "    # Merge population → GeoDataFrame\n",
    "    gdf = bay_tracts.merge(veh_df, on=\"GEOID\", how=\"left\").fillna(0)\n",
    "\n",
    "    # Plot choropleth\n",
    "    fig, ax = plt.subplots(1,1, figsize=(10,10))\n",
    "    gdf.plot(\n",
    "        column=veh_var,\n",
    "        cmap=\"viridis\",\n",
    "        legend=True,\n",
    "        legend_kwds={\"label\":\"Total Households\",\"fmt\":\"{:,.0f}\"},\n",
    "        linewidth=0.1,\n",
    "        edgecolor=\"gray\",\n",
    "        ax=ax\n",
    "    )\n",
    "    ax.set_title(f\"Bay Area Total Households with {num_cars} by Census Tract (ACS 5-Year)\")\n",
    "    ax.axis(\"off\")\n",
    "    plt.show()"
   ]
  },
  {
   "cell_type": "code",
   "execution_count": null,
   "id": "6e5b9913",
   "metadata": {},
   "outputs": [],
   "source": [
    "veh1_category = (df_veh1, veh_vars[-1], \"1 Car\")\n",
    "veh2_category = (df_veh2, veh_vars[0], \"2 Cars\")\n",
    "veh3_category = (df_veh3, veh_vars[1], \"3 Cars\")\n",
    "veh4_category = (df_veh4, veh_vars[2], \"4+ Cars \")\n",
    "vehT_category = (total_veh, veh_vars[3], \"Multiple Vehicles\")\n",
    "\n",
    "plot_vehicles_by_tract(vehT_category)"
   ]
  }
 ],
 "metadata": {
  "kernelspec": {
   "display_name": ".venv",
   "language": "python",
   "name": "python3"
  },
  "language_info": {
   "codemirror_mode": {
    "name": "ipython",
    "version": 3
   },
   "file_extension": ".py",
   "mimetype": "text/x-python",
   "name": "python",
   "nbconvert_exporter": "python",
   "pygments_lexer": "ipython3",
   "version": "3.12.9"
  }
 },
 "nbformat": 4,
 "nbformat_minor": 5
}
